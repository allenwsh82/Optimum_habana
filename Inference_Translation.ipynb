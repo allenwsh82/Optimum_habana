{
 "cells": [
  {
   "cell_type": "code",
   "execution_count": 8,
   "id": "1383bb72-c0bd-4ecf-aad9-0d7b2afcf4b9",
   "metadata": {},
   "outputs": [
    {
     "name": "stdout",
     "output_type": "stream",
     "text": [
      "/root/shared/demo/optimum-habana/examples\n"
     ]
    }
   ],
   "source": [
    "!pwd"
   ]
  },
  {
   "cell_type": "code",
   "execution_count": 9,
   "id": "52b26514-4a36-418c-85ae-19f5d595131d",
   "metadata": {},
   "outputs": [
    {
     "name": "stdout",
     "output_type": "stream",
     "text": [
      "/root/shared/demo/optimum-habana/examples/tst-translation\n"
     ]
    }
   ],
   "source": [
    "%cd ./tst-translation"
   ]
  },
  {
   "cell_type": "code",
   "execution_count": 10,
   "id": "59ed2071-0464-4e58-bd89-acfead2749c0",
   "metadata": {},
   "outputs": [
    {
     "name": "stdout",
     "output_type": "stream",
     "text": [
      "total 432416\n",
      "drwxr-xr-x  7 root root      4096 Jul 31 03:57 \u001b[0m\u001b[01;34m.\u001b[0m/\n",
      "drwxr-xr-x 22 root root      4096 Jul 31 05:33 \u001b[01;34m..\u001b[0m/\n",
      "-rw-r--r--  1 root root       538 Jul 31 03:02 all_results.json\n",
      "drwxr-xr-x  2 root root      4096 Jul 31 01:50 \u001b[01;34mcheckpoint-19073\u001b[0m/\n",
      "drwxr-xr-x  2 root root      4096 Jul 31 02:25 \u001b[01;34mcheckpoint-38146\u001b[0m/\n",
      "drwxr-xr-x  2 root root      4096 Jul 31 03:01 \u001b[01;34mcheckpoint-57219\u001b[0m/\n",
      "-rw-r--r--  1 root root      1473 Jul 31 03:01 config.json\n",
      "-rw-r--r--  1 root root       360 Jul 31 03:02 eval_results.json\n",
      "-rw-r--r--  1 root root       538 Jul 31 03:01 gaudi_config.json\n",
      "-rw-r--r--  1 root root       189 Jul 31 03:01 generation_config.json\n",
      "drwxr-x---  2 root root      4096 Jul 31 03:57 \u001b[01;34m.graph_dumps\u001b[0m/\n",
      "-rw-r--r--  1 root root 439464805 Jul 31 03:01 pytorch_model.bin\n",
      "-rw-r--r--  1 root root      1628 Jul 31 03:02 README.md\n",
      "drwxr-xr-x  3 root root      4096 Jul 31 01:14 \u001b[01;34mruns\u001b[0m/\n",
      "-rw-r--r--  1 root root      2201 Jul 31 03:01 special_tokens_map.json\n",
      "-rw-r--r--  1 root root    791656 Jul 31 03:01 spiece.model\n",
      "-rw-r--r--  1 root root      2324 Jul 31 03:01 tokenizer_config.json\n",
      "-rw-r--r--  1 root root   2422360 Jul 31 03:01 tokenizer.json\n",
      "-rw-r--r--  1 root root     28644 Jul 31 03:01 trainer_state.json\n",
      "-rw-r--r--  1 root root      4155 Jul 31 03:01 training_args.bin\n",
      "-rw-r--r--  1 root root       315 Jul 31 03:01 train_results.json\n"
     ]
    }
   ],
   "source": [
    "%ls -al"
   ]
  },
  {
   "cell_type": "code",
   "execution_count": 3,
   "id": "7b62948a-76a9-4bc0-ae8d-3fd6a0a21826",
   "metadata": {},
   "outputs": [],
   "source": [
    "import torch\n",
    "import habana_frameworks.torch"
   ]
  },
  {
   "cell_type": "code",
   "execution_count": 4,
   "id": "61571bbe-f4f7-48a1-98e8-f1010bcb351e",
   "metadata": {},
   "outputs": [
    {
     "name": "stderr",
     "output_type": "stream",
     "text": [
      "/usr/local/lib/python3.8/dist-packages/tqdm/auto.py:21: TqdmWarning: IProgress not found. Please update jupyter and ipywidgets. See https://ipywidgets.readthedocs.io/en/stable/user_install.html\n",
      "  from .autonotebook import tqdm as notebook_tqdm\n"
     ]
    }
   ],
   "source": [
    "from transformers import pipeline, AutoModelForSeq2SeqLM, AutoTokenizer\n"
   ]
  },
  {
   "cell_type": "code",
   "execution_count": 5,
   "id": "73ca2b6a-17fe-4ebd-af5e-b93639c4b7ab",
   "metadata": {},
   "outputs": [
    {
     "name": "stderr",
     "output_type": "stream",
     "text": [
      "Downloading (…)lve/main/config.json: 100%|███████████████████████████████████████████████████████████████████████████████████████████████████████████████████████████████████████████████████████████████| 1.21k/1.21k [00:00<00:00, 180kB/s]\n",
      "Downloading model.safetensors: 100%|██████████████████████████████████████████████████████████████████████████████████████████████████████████████████████████████████████████████████████████████████████| 242M/242M [01:52<00:00, 2.14MB/s]\n",
      "Downloading (…)neration_config.json: 100%|██████████████████████████████████████████████████████████████████████████████████████████████████████████████████████████████████████████████████████████████████| 147/147 [00:00<00:00, 22.0kB/s]\n",
      "Downloading (…)okenizer_config.json: 100%|███████████████████████████████████████████████████████████████████████████████████████████████████████████████████████████████████████████████████████████████| 2.32k/2.32k [00:00<00:00, 921kB/s]\n",
      "Downloading (…)ve/main/spiece.model: 100%|████████████████████████████████████████████████████████████████████████████████████████████████████████████████████████████████████████████████████████████████| 792k/792k [00:00<00:00, 1.08MB/s]\n",
      "Downloading (…)/main/tokenizer.json: 100%|██████████████████████████████████████████████████████████████████████████████████████████████████████████████████████████████████████████████████████████████| 1.39M/1.39M [00:00<00:00, 4.13MB/s]\n"
     ]
    }
   ],
   "source": [
    "# Load model to fine-tune and its tokenizer\n",
    "model_to_finetune = \"t5-small\"\n",
    "model = AutoModelForSeq2SeqLM.from_pretrained(model_to_finetune)\n",
    "tokenizer = AutoTokenizer.from_pretrained(model_to_finetune)"
   ]
  },
  {
   "cell_type": "code",
   "execution_count": 7,
   "id": "646d83a7-3e7d-4ed2-980e-0de0ddf39684",
   "metadata": {},
   "outputs": [
    {
     "name": "stdout",
     "output_type": "stream",
     "text": [
      "/root/shared/demo/optimum-habana/examples/tst-translation\n"
     ]
    }
   ],
   "source": [
    "path_to_local_model = \"/root/shared/demo/optimum-habana/examples/tst-translation\"\n",
    "print (path_to_local_model)"
   ]
  },
  {
   "cell_type": "code",
   "execution_count": 31,
   "id": "2b504431-7de8-497a-82b2-d5651a56e6d5",
   "metadata": {},
   "outputs": [
    {
     "name": "stdin",
     "output_type": "stream",
     "text": [
      "Please input your text:  \"translate English to Romanian : Intel is the best semiconductor company in the world.\"\n"
     ]
    }
   ],
   "source": [
    "#Input the text to be summarize.\n",
    "text_to_translate = input (\"Please input your text: \")"
   ]
  },
  {
   "cell_type": "code",
   "execution_count": 32,
   "id": "4b621644-cad1-4d87-9d9c-c0b07d9d2deb",
   "metadata": {},
   "outputs": [],
   "source": [
    "# Instantiate pipeline from local repo, if you did not run the fine tuning step above, you can change: model=model_to_finetune\n",
    "pipe = pipeline(task=\"translation\", model=path_to_local_model, device=\"hpu\", torch_dtype=torch.bfloat16)\n"
   ]
  },
  {
   "cell_type": "code",
   "execution_count": 33,
   "id": "7dfe4ce5-f2a7-449f-bf55-651d33172efd",
   "metadata": {},
   "outputs": [
    {
     "name": "stdout",
     "output_type": "stream",
     "text": [
      "------------------------------------------------------------------------------------------------------------------------------------------\n",
      "Input: \"translate English to Romanian : Intel is the best semiconductor company in the world.\"\n",
      "\n",
      "------------------------------------------------------------------------------------------------------------------------------------------\n",
      "Result: [{'translation_text': '\"translate English : Intel este cea mai bună companie de semiconductori din lume\".'}]\n"
     ]
    }
   ],
   "source": [
    "print(\"------------------------------------------------------------------------------------------------------------------------------------------\")\n",
    "print(\"Input:\", text_to_translate)\n",
    "print()\n",
    "\n",
    "result = pipe(text_to_translate)\n",
    "print(\"------------------------------------------------------------------------------------------------------------------------------------------\")\n",
    "print(\"Result:\", result)\n"
   ]
  },
  {
   "cell_type": "code",
   "execution_count": null,
   "id": "3bb387a6-1e0f-4e0e-bf37-b304522e8f14",
   "metadata": {},
   "outputs": [],
   "source": []
  },
  {
   "cell_type": "code",
   "execution_count": null,
   "id": "9468172a-000b-460d-86ee-1413a40d1ce2",
   "metadata": {},
   "outputs": [],
   "source": []
  },
  {
   "cell_type": "code",
   "execution_count": null,
   "id": "b3cc1356-bdab-44fc-9a90-c84432f44530",
   "metadata": {},
   "outputs": [],
   "source": []
  }
 ],
 "metadata": {
  "kernelspec": {
   "display_name": "Python 3 (ipykernel)",
   "language": "python",
   "name": "python3"
  },
  "language_info": {
   "codemirror_mode": {
    "name": "ipython",
    "version": 3
   },
   "file_extension": ".py",
   "mimetype": "text/x-python",
   "name": "python",
   "nbconvert_exporter": "python",
   "pygments_lexer": "ipython3",
   "version": "3.8.10"
  }
 },
 "nbformat": 4,
 "nbformat_minor": 5
}
