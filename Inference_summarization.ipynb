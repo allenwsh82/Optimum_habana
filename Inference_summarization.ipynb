{
 "cells": [
  {
   "cell_type": "code",
   "execution_count": null,
   "id": "de208818-20fd-473b-8798-651956df097d",
   "metadata": {},
   "outputs": [],
   "source": [
    "#Simple inference test for Fine Tuning Text Summarization "
   ]
  },
  {
   "cell_type": "code",
   "execution_count": null,
   "id": "fb66ee5c-f1e0-468c-bfcf-e61c777ab150",
   "metadata": {},
   "outputs": [],
   "source": [
    "!pip install git+https://github.com/HabanaAI/DeepSpeed.git@1.10.0  "
   ]
  },
  {
   "cell_type": "code",
   "execution_count": null,
   "id": "044493bd-f55a-422f-b7e0-b1f80fa8adb2",
   "metadata": {},
   "outputs": [],
   "source": [
    "!python -m pip install optimum[habana]"
   ]
  },
  {
   "cell_type": "code",
   "execution_count": null,
   "id": "129b11e3-2a87-44e5-8222-15ad4f008b69",
   "metadata": {},
   "outputs": [],
   "source": [
    "!git clone  https://github.com/huggingface/optimum-habana"
   ]
  },
  {
   "cell_type": "code",
   "execution_count": 1,
   "id": "5a86d714-fe49-4f42-b4e3-a7182116dc75",
   "metadata": {},
   "outputs": [
    {
     "data": {
      "text/plain": [
       "'/root/shared/demo/optimum-habana/examples'"
      ]
     },
     "execution_count": 1,
     "metadata": {},
     "output_type": "execute_result"
    }
   ],
   "source": [
    "%pwd"
   ]
  },
  {
   "cell_type": "code",
   "execution_count": 1,
   "id": "de772de3-a7b9-432e-9583-c25a9e1fe52f",
   "metadata": {},
   "outputs": [
    {
     "name": "stdout",
     "output_type": "stream",
     "text": [
      "/root/shared/demo/optimum-habana/examples/tst-summarization_Epoch_3\n"
     ]
    }
   ],
   "source": [
    "%cd ./tst-summarization_Epoch_3"
   ]
  },
  {
   "cell_type": "code",
   "execution_count": 2,
   "id": "d27d821d-4951-48ab-8a32-23e96cbc36e7",
   "metadata": {},
   "outputs": [
    {
     "name": "stdout",
     "output_type": "stream",
     "text": [
      "total 432412\n",
      "drwxr-xr-x  8 root root      4096 Jul 30 12:45 \u001b[0m\u001b[01;34m.\u001b[0m/\n",
      "drwxr-xr-x 20 root root      4096 Jul 30 14:24 \u001b[01;34m..\u001b[0m/\n",
      "-rw-r--r--  1 root root       634 Jul 29 14:56 all_results.json\n",
      "drwxr-xr-x  2 root root      4096 Jul 29 14:10 \u001b[01;34mcheckpoint-11964\u001b[0m/\n",
      "drwxr-xr-x  2 root root      4096 Jul 29 14:31 \u001b[01;34mcheckpoint-23928\u001b[0m/\n",
      "drwxr-xr-x  2 root root      4096 Jul 29 14:52 \u001b[01;34mcheckpoint-35892\u001b[0m/\n",
      "-rw-r--r--  1 root root      1473 Jul 29 14:52 config.json\n",
      "-rw-r--r--  1 root root       457 Jul 29 14:56 eval_results.json\n",
      "-rw-r--r--  1 root root       538 Jul 29 14:52 gaudi_config.json\n",
      "-rw-r--r--  1 root root       210 Jul 29 14:52 generation_config.json\n",
      "drwxr-x---  2 root root      4096 Jul 30 12:45 \u001b[01;34m.graph_dumps\u001b[0m/\n",
      "drwxr-xr-x  2 root root      4096 Jul 30 00:40 \u001b[01;34m.ipynb_checkpoints\u001b[0m/\n",
      "-rw-r--r--  1 root root 439464805 Jul 29 14:52 pytorch_model.bin\n",
      "-rw-r--r--  1 root root      1723 Jul 29 14:56 README.md\n",
      "drwxr-xr-x  3 root root      4096 Jul 29 13:49 \u001b[01;34mruns\u001b[0m/\n",
      "-rw-r--r--  1 root root      2201 Jul 29 14:52 special_tokens_map.json\n",
      "-rw-r--r--  1 root root    791656 Jul 29 14:52 spiece.model\n",
      "-rw-r--r--  1 root root      2324 Jul 29 14:52 tokenizer_config.json\n",
      "-rw-r--r--  1 root root   2422095 Jul 29 14:52 tokenizer.json\n",
      "-rw-r--r--  1 root root     18120 Jul 29 14:52 trainer_state.json\n",
      "-rw-r--r--  1 root root      5499 Jul 29 14:52 training_args.bin\n",
      "-rw-r--r--  1 root root       314 Jul 29 14:52 train_results.json\n"
     ]
    }
   ],
   "source": [
    "%ls -al"
   ]
  },
  {
   "cell_type": "code",
   "execution_count": 5,
   "id": "dc46d1ac-be72-4f2c-8ebb-82ff3255af1e",
   "metadata": {},
   "outputs": [
    {
     "name": "stderr",
     "output_type": "stream",
     "text": [
      "Your max_length is set to 200, but you input_length is only 157. You might consider decreasing max_length manually, e.g. summarizer('...', max_length=78)\n"
     ]
    },
    {
     "name": "stdout",
     "output_type": "stream",
     "text": [
      "------------------------------------------------------------\n",
      "Input: summarize: Intel's 3nm-class process technology has met its defect density and performance targets, the company announced this week. The Intel 3 fabrication technology is on track to be used for high-volume manufacturing of Intel's upcoming codenamed Granite Rapids and Sierra Forest processors next year, according to Intel. Intel 3 (previously known as 5nm) is the company's 2nd-gen process technology that uses extreme ultraviolet lithography and is generally a refined Intel 4 production node (previously known as 7nm). Compared to Intel 4, Intel 3 promises an 18% higher performance per watt efficiency, denser high-performance library, reduced via resistance, and increased intrinsic drive current.\n",
      "\n",
      "------------------------------------------------------------\n",
      "Result: [{'summary_text': \"Intel 3 is the company's 2nd-gen process technology that uses extreme ultraviolet lithography . Intel 3 promises an 18% higher performance per watt efficiency, reduced via resistance, and increased intrinsic drive current .\"}]\n"
     ]
    }
   ],
   "source": [
    "import torch\n",
    "import habana_frameworks.torch\n",
    "\n",
    "from transformers import pipeline, AutoModelForSeq2SeqLM, AutoTokenizer\n",
    "\n",
    "# Load model to fine-tune and its tokenizer\n",
    "model_to_finetune = \"t5-small\"\n",
    "model = AutoModelForSeq2SeqLM.from_pretrained(model_to_finetune)\n",
    "tokenizer = AutoTokenizer.from_pretrained(model_to_finetune)\n",
    "\n",
    "# Point to the ft-summarization folder with the fine-tuned model\n",
    "path_to_local_model = \"/root/shared/demo/optimum-habana/examples/tst-summarization_Epoch_3\"\n",
    "\n",
    "# Instantiate pipeline from local repo, if you did not run the fine tuning step above, you can change: model=model_to_finetune\n",
    "pipe = pipeline(task=\"summarization\", model=path_to_local_model, device=\"hpu\", torch_dtype=torch.bfloat16)\n",
    "\n",
    "\n",
    "#text_to_summarize = \"summarize: We also thank Sdr. Lim Kit Siang for making the difficult but very important realignment with Tun Dr. Mahathir possible against the sentiments of the entire party. Kit Siang had the foresight and courage in March 2016 to advocate a grand coalition with forces aligned with Tun Dr. Mahathir. Kit Siang is the rare statesman not fixated with the past but focused on the future to chart a new course of history.We must also not forget the role played by Allahyarham Tok Guru Nik Aziz Nik Mat who consistently protected Pakatan against conservative forces within his own party and those racists and extremists outside. Sadly his death has allowed the racists and extremists to gain ascendancy. Building on Tok Guru’s legacy, Sdr. Mohamad Sabu and others made a major sacrifice to leave PAS and form Parti Amanah Negara, under severe duress and incessant attacks. We would also like to acknowledge the leadership of Tan Sri Muhyiddin Yassin and Datuk Seri Dr Wan Azizah Wan Ismail for helping to hold the coalition together for 9th May 2018 to happen. Also, the contributions of NGOs and BERSIH in establishing a participatory platform for many Malaysians to gain political consciousness about the need for reforms. GE14 was all about people’s power.\"\n",
    "\n",
    "#text_to_summarize = \"summarize: We succeeded in proving in Penang and Selangor that our political coalition can rule better than BN. But can we convince Malaysians? On 9th May 2018, against all odds, millions of Malaysians stood up against the kleptocratic Najib Razak regime and miraculously voted for change. We have three political giants in Malaysian politics to thank for making change possible. Since his sacking as Deputy Prime Minister in 1998, Datuk Seri Anwar Ibrahim has been the glue to hold the then opposition parties together through Barisan Alternatif, Pakatan Rakyat and Pakatan Harapan. The past twenty years have been a long journey. The base vote and ground prepared by the original parties of Pakatan Harapan – Parti Keadilan Rakyat, Parti Amanah Negara and DAP were crucial. However, the original Pakatan Harapan parties would not have won without the leadership of Tun Dr. Mahathir Mohamad and the realignment with Parti Pribumi Bersatu Malaysia. For that we thank Tun Dr. Mahathir for his courage and judgment to strike out a new political path, unimagined previously when the BN kleptocracy was seen as invincible.\" \n",
    "\n",
    "\n",
    "#text_to_summarize = \"summarize: I am losing my interest in human beings; in the significance of their lives and their actions. Some one has said it is better to study one man than ten books. I want neither books nor men; they make me suffer. Can one of them talk to me like the night – the Summer night? Like the stars or the caressing wind? The night is solemn and it means mystery. The katydids began their slumber song: they are at it yet. How wise they are. They do not chatter like people. They tell me only: “sleep, sleep, sleep.” The wind rippled the maple leaves like little warm love thrills. Why do fools cumber the Earth! It was a man’s voice that broke the necromancer’s spell. A man came to-day with his “Bible Class.” He is detestable with his red cheeks and bold eyes and coarse manner and speech. What does he know of Christ? Shall I ask a young fool who was born yesterday and will die tomorrow to tell me things of Christ? I would rather ask the stars: they have seen him. Human shapes flitted by like intangible things. Some stole up like little mice to peep at me. I did not mind. My whole being was abandoned to the soothing and penetrating charm of the night. The katydids began their slumber song: they are at it yet. How wise they are. They do not chatter like people. They tell me only: “sleep, sleep, sleep.” The wind rippled the maple leaves like little warm love thrills. Why do fools cumber the Earth! It was a man’s voice that broke the necromancer’s spell. A man came to-day with his “Bible Class.” He is detestable with his red cheeks and bold eyes and coarse manner and speech. What does he know of Christ? Shall I ask a young fool who was born yesterday and will die tomorrow to tell me things of Christ? I would rather ask the stars: they have seen him.\" \n",
    "\n",
    "text_to_summarize = \"summarize: Intel's 3nm-class process technology has met its defect density and performance targets, the company announced this week. The Intel 3 fabrication technology is on track to be used for high-volume manufacturing of Intel's upcoming codenamed Granite Rapids and Sierra Forest processors next year, according to Intel. Intel 3 (previously known as 5nm) is the company's 2nd-gen process technology that uses extreme ultraviolet lithography and is generally a refined Intel 4 production node (previously known as 7nm). Compared to Intel 4, Intel 3 promises an 18% higher performance per watt efficiency, denser high-performance library, reduced via resistance, and increased intrinsic drive current.\" \n",
    "#text_to_summarize = \"summarize: Photosynthesis involves a series of complex reactions that take place within specialized organelles called chloroplasts in plant cells. It can be broadly divided into two stages: the light-dependent reactions and the light-independent reactions, also known as the Calvin cycle.  Light-Dependent Reactions: During the light-dependent reactions, chlorophyll pigments within the thylakoid membranes of the chloroplasts absorb light energy. This energy is utilized to split water molecules into oxygen, protons (H+), and electrons. Oxygen is released as a byproduct, while protons and electrons are transported through an electron transport chain, generating ATP (adenosine triphosphate) and NADPH (nicotinamide adenine dinucleotide phosphate).  Light-Independent Reactions (Calvin Cycle):  The ATP and NADPH produced in the light-dependent reactions are utilized in the Calvin cycle, which takes place in the stroma of the chloroplasts. In this cycle, carbon dioxide from the atmosphere combines with the stored energy in the form of ATP and NADPH to produce glucose. This glucose serves as a building block for other carbohydrates and organic compounds. Photosynthesis is a complex process that enables plants, algae, and some bacteria to convert light energy into chemical energy, facilitating the sustenance of life on Earth. It involves the interplay of light-dependent reactions, which generate ATP and NADPH, and the light-independent reactions or the Calvin cycle, which utilize the produced energy to fix carbon dioxide and produce glucose. Enhancing our understanding of photosynthesis and its underlying mechanisms holds the key to various applications, including improving crop yields, developing sustainable bioenergy sources, and addressing environmental challenges.\"\n",
    "#text_to_summarize = \"summarize: Introduction: The Strategic Arms Limitation Talks II (SALT II) treaty, signed on June 18, 1979, between the United States and the Soviet Union, marked a significant milestone in nuclear arms control efforts during the Cold War era. Building upon its predecessor, SALT I, the treaty aimed to curb the arms race and reduce the risk of nuclear conflict between the superpowers. Key Provisions: SALT II encompassed several crucial provisions. It placed limits on strategic offensive arms, including intercontinental ballistic missiles (ICBMs), submarine-launched ballistic missiles (SLBMs), and heavy bombers. The agreement specified the maximum number of deployed warheads and launchers each party could possess. Verification and Compliance: To ensure compliance, the treaty established comprehensive verification measures. This involved regular exchanges of data, on-site inspections, and monitoring activities by both nations. These measures sought to enhance transparency, foster trust, and prevent either side from gaining a significant advantage in terms of strategic nuclear capabilities. Ratification and Challenges: Although both the United States and the Soviet Union signed the treaty, its ratification faced considerable challenges. The political landscape changed when the Soviet Union invaded Afghanistan in 1979, leading to a deterioration of U.S.-Soviet relations. As a result, the United States never ratified the treaty formally, rendering it non-binding. However, both nations pledged to adhere to its principles, effectively implementing its provisions on a voluntary basis. Legacy and Impact: Despite the treaty's non-ratification, SALT II's legacy and impact were significant. It set the stage for subsequent arms control negotiations, providing a framework for future agreements such as the Intermediate-Range Nuclear Forces (INF) Treaty and the Strategic Arms Reduction Treaty (START). SALT II demonstrated the potential for cooperation between the superpowers and laid the groundwork for continued dialogue aimed at reducing the nuclear threat globally.\"\n",
    "\n",
    "print(\"------------------------------------------------------------\")\n",
    "print(\"Input:\", text_to_summarize)\n",
    "print()\n",
    "\n",
    "result = pipe(text_to_summarize)\n",
    "print(\"------------------------------------------------------------\")\n",
    "print(\"Result:\", result)\n"
   ]
  },
  {
   "cell_type": "code",
   "execution_count": null,
   "id": "756d203f-3f60-43fc-9fcc-2f555c6ab89a",
   "metadata": {},
   "outputs": [],
   "source": []
  }
 ],
 "metadata": {
  "kernelspec": {
   "display_name": "Python 3 (ipykernel)",
   "language": "python",
   "name": "python3"
  },
  "language_info": {
   "codemirror_mode": {
    "name": "ipython",
    "version": 3
   },
   "file_extension": ".py",
   "mimetype": "text/x-python",
   "name": "python",
   "nbconvert_exporter": "python",
   "pygments_lexer": "ipython3",
   "version": "3.8.10"
  }
 },
 "nbformat": 4,
 "nbformat_minor": 5
}
